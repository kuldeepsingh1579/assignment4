{
 "cells": [
  {
   "cell_type": "markdown",
   "id": "3bac8938-3c7e-49c9-9ffc-f8be36743b56",
   "metadata": {},
   "source": [
    "Question NUm.1"
   ]
  },
  {
   "cell_type": "markdown",
   "id": "590e864b-c8a3-491c-8f47-dc8aa0efaa17",
   "metadata": {},
   "source": [
    "Class-- A class is a user defined blueprint or prototype from which objects are created.classes provide a means of bundling data functionality together\n",
    "  syntax:\n",
    "     class class_name:\n",
    "          body\n",
    "          \n",
    "Object--The object is the instance of a class. the process of creating an object is called instantiation.  \n",
    "when clas is defined then only a template is defined but memory is allocated only after object instantiation.\n",
    "  syntax:\n",
    "     obj = class_name()\n",
    "     print(obj.atrrbutes)\n",
    "     \n",
    "For eg. If we talking about the cars then the \"car\" is the class and car names such as tayota ,Kia ,Swift etc. is the object of the class name car    "
   ]
  },
  {
   "cell_type": "code",
   "execution_count": 19,
   "id": "913fbb1a-a9d9-411e-992f-740585386d2f",
   "metadata": {},
   "outputs": [],
   "source": [
    "class car:\n",
    "    def __init__(self,carname,modle,price):\n",
    "        self.carname = carname\n",
    "        self.modle = modle\n",
    "        self.price = price\n",
    "    def car_name (self):\n",
    "        return self.carname,self.modle,self.price"
   ]
  },
  {
   "cell_type": "code",
   "execution_count": 20,
   "id": "f5be94d9-275d-44c4-a57e-019c891736db",
   "metadata": {},
   "outputs": [],
   "source": [
    "obj=car('kia','base', 2000)\n"
   ]
  },
  {
   "cell_type": "code",
   "execution_count": 22,
   "id": "e25811ec-4827-49ff-a4c8-294b86007835",
   "metadata": {},
   "outputs": [
    {
     "data": {
      "text/plain": [
       "('kia', 'base', 2000)"
      ]
     },
     "execution_count": 22,
     "metadata": {},
     "output_type": "execute_result"
    }
   ],
   "source": [
    "obj.car_name()"
   ]
  },
  {
   "cell_type": "markdown",
   "id": "c86b53fd-2b7f-41ea-8610-ae3fa8c8c213",
   "metadata": {},
   "source": [
    "Question Num.2"
   ]
  },
  {
   "cell_type": "markdown",
   "id": "48465f06-ceb8-4b23-82b7-faef40bcfd39",
   "metadata": {},
   "source": [
    "Thesre are the four pillars of OOPs--\n",
    "\n",
    "1- Abstraction\n",
    "2- Encapsulation\n",
    "3- Inheritance\n",
    "4- polymorphism."
   ]
  },
  {
   "cell_type": "markdown",
   "id": "b39e6205-dfbe-421e-90b2-c6824b845bc7",
   "metadata": {},
   "source": [
    "Question Num.3"
   ]
  },
  {
   "cell_type": "markdown",
   "id": "0a565d29-bda1-4d39-9516-166cbb7560d4",
   "metadata": {},
   "source": [
    "-->THe '__init__()' function is a special methode in python classes that gets called automatically when an instance or object of the class is created.\n",
    "It is commonaly used to initialize the attributes of the object."
   ]
  },
  {
   "cell_type": "code",
   "execution_count": 15,
   "id": "1d933fb8-6038-4c5d-8d97-21863a759d7f",
   "metadata": {},
   "outputs": [
    {
     "name": "stdout",
     "output_type": "stream",
     "text": [
      "karan chauhan\n",
      "23\n"
     ]
    }
   ],
   "source": [
    "class person :\n",
    "    def __init__(self,name ,age):\n",
    "        self.name = name\n",
    "        self.age = age\n",
    "person1=person('karan chauhan', 23)\n",
    "print(person1.name)\n",
    "print(person1.age)"
   ]
  },
  {
   "cell_type": "markdown",
   "id": "d1b84d14-c029-443d-a74e-b2805d5512ab",
   "metadata": {},
   "source": [
    "Question num.4"
   ]
  },
  {
   "cell_type": "markdown",
   "id": "238444e4-440c-4a27-8d83-a09997ce4c1c",
   "metadata": {},
   "source": [
    "In object-oriented programming , the 'self' keywoards is used to refer to the instance of a class. when you create an object of a class , 'self' is used to refer to that particular instance of the class.\n",
    "When you call a method on an istance of a class the instance is automatically passed as the first argument to the method and 'self' parameter receives this instance"
   ]
  },
  {
   "cell_type": "code",
   "execution_count": 18,
   "id": "7e9572eb-4ad2-44f2-9e0a-19b537860015",
   "metadata": {},
   "outputs": [
    {
     "name": "stdout",
     "output_type": "stream",
     "text": [
      "My name is Anushka Singh and I'm 23 years old.\n"
     ]
    }
   ],
   "source": [
    "class person :\n",
    "    def __init__(self, name, age ):\n",
    "        self.name = name\n",
    "        self.age = age\n",
    "    def introduce(self):\n",
    "        print(f\"My name is {self.name} and I'm {self.age} years old.\")\n",
    "person1 = person('Anushka Singh',23)\n",
    "person1.introduce()"
   ]
  },
  {
   "cell_type": "markdown",
   "id": "8cbfd768-7edd-4e30-bfd4-ac34362af27b",
   "metadata": {},
   "source": [
    "Question Num-5"
   ]
  },
  {
   "cell_type": "markdown",
   "id": "98c5c1ba-d7d9-4f6a-804b-0941de9bf860",
   "metadata": {},
   "source": [
    "Inheritance is a concept in object-oriented programming that allows a class to inherirt properties and behavior from a parent class, also known as a superclass or base class .\n",
    "In other words, it's a way to create new classes based on existing classes without having to rewrite all the code again.\n",
    "\n",
    "Types of the inheritance--\n",
    "1- Single Inheritance\n",
    "2- Multiple Inheritance\n",
    "3- multilevel Inheritance"
   ]
  },
  {
   "cell_type": "code",
   "execution_count": 1,
   "id": "22b4acc9-3a7e-49b5-acc7-76cb14dc11b8",
   "metadata": {},
   "outputs": [],
   "source": [
    "class fish:\n",
    "    def swim(self):\n",
    "        print(\"swimming...\")\n",
    "        \n",
    "class mammal:\n",
    "    def feed_milk(self):\n",
    "        print(\"feeding milk...\")\n",
    "    \n",
    "class dolphin(fish , mammal):\n",
    "    pass"
   ]
  },
  {
   "cell_type": "code",
   "execution_count": 2,
   "id": "00e1799b-2f97-47f0-b53e-cbd6396c9275",
   "metadata": {},
   "outputs": [
    {
     "name": "stdout",
     "output_type": "stream",
     "text": [
      "feeding milk...\n"
     ]
    }
   ],
   "source": [
    "obj=dolphin()\n",
    "obj.feed_milk()"
   ]
  },
  {
   "cell_type": "code",
   "execution_count": null,
   "id": "adc8fc4c-f87d-4e02-82f4-cca275495a7c",
   "metadata": {},
   "outputs": [],
   "source": []
  }
 ],
 "metadata": {
  "kernelspec": {
   "display_name": "Python 3 (ipykernel)",
   "language": "python",
   "name": "python3"
  },
  "language_info": {
   "codemirror_mode": {
    "name": "ipython",
    "version": 3
   },
   "file_extension": ".py",
   "mimetype": "text/x-python",
   "name": "python",
   "nbconvert_exporter": "python",
   "pygments_lexer": "ipython3",
   "version": "3.10.8"
  }
 },
 "nbformat": 4,
 "nbformat_minor": 5
}
